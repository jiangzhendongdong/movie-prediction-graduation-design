{
 "cells": [
  {
   "cell_type": "code",
   "execution_count": 127,
   "id": "35fe9d51",
   "metadata": {
    "scrolled": true,
    "ExecuteTime": {
     "end_time": "2024-03-29T12:40:19.602655500Z",
     "start_time": "2024-03-29T12:40:19.149297300Z"
    }
   },
   "outputs": [],
   "source": [
    "# 导入Pandas库\n",
    "import pandas as pd\n",
    "movie = pd.read_csv(\"D:\\\\movie-prediction-graduation-design\\\\DoubanMoviesData.csv\",encoding=\"utf-8\")\n"
   ]
  },
  {
   "cell_type": "code",
   "execution_count": 128,
   "id": "63000337",
   "metadata": {
    "scrolled": true,
    "ExecuteTime": {
     "end_time": "2024-03-29T12:40:19.606661900Z",
     "start_time": "2024-03-29T12:40:19.345478500Z"
    }
   },
   "outputs": [
    {
     "name": "stdout",
     "output_type": "stream",
     "text": [
      "<class 'pandas.core.frame.DataFrame'>\n",
      "RangeIndex: 10566 entries, 0 to 10565\n",
      "Data columns (total 13 columns):\n",
      " #   Column        Non-Null Count  Dtype  \n",
      "---  ------        --------------  -----  \n",
      " 0   movie         10566 non-null  object \n",
      " 1   douban_score  10566 non-null  float64\n",
      " 2   actors        10566 non-null  object \n",
      " 3   directors     10566 non-null  object \n",
      " 4   douban_votes  10566 non-null  int64  \n",
      " 5   genres        10566 non-null  object \n",
      " 6   languages     10566 non-null  object \n",
      " 7   duration      10566 non-null  int64  \n",
      " 8   regions       10566 non-null  object \n",
      " 9   release_date  10566 non-null  object \n",
      " 10  storyline     10566 non-null  object \n",
      " 11  tags          10566 non-null  object \n",
      " 12  year          10566 non-null  int64  \n",
      "dtypes: float64(1), int64(3), object(9)\n",
      "memory usage: 1.0+ MB\n"
     ]
    }
   ],
   "source": [
    "movie.info()"
   ]
  },
  {
   "cell_type": "code",
   "execution_count": 129,
   "id": "faeacb09",
   "metadata": {
    "ExecuteTime": {
     "end_time": "2024-03-29T12:40:19.606661900Z",
     "start_time": "2024-03-29T12:40:19.360479400Z"
    }
   },
   "outputs": [],
   "source": [
    "attributes = movie.iloc[:, 2:13]  # 获取属性数据，假设属性在第2到第13列\n",
    "douban_score = movie.iloc[:, 1]  # 获取评分数据，假设评分在第2列"
   ]
  },
  {
   "cell_type": "code",
   "execution_count": 130,
   "outputs": [
    {
     "data": {
      "text/plain": "                                                  actors   directors  \\\n0      保罗·爱丁顿/奈杰尔·霍桑/德里克·福德斯/戴安娜·霍迪诺特/约翰·内特尔顿/詹姆斯·格劳特...     彼得·惠特莫尔   \n1      神谷浩史/井上和彦/伊藤美纪/伊藤荣次/堀江一真/木村良平/菅沼久义/松山鹰志/下崎纮史/冈...  大森贵弘/出合小都美   \n2                                    阿尔菲·博/诺姆·刘易斯/马特·卢卡斯      尼克·莫里斯   \n3      张国荣/张丰毅/巩俐/葛优/英达/蒋雯丽/吴大维/吕齐/雷汉/尹治/马明威/费振翔/智一桐/...         陈凯歌   \n4                                    神谷浩史/井上和彦/小林沙苗/伊藤美纪  大森贵弘/出合小都美   \n...                                                  ...         ...   \n10561                             贾玲 / 孙集斌 / 刘宏禄 / 郭宇鹏 /          贾玲   \n10562                提莫西·查拉梅 / 赞达亚 / 丽贝卡·弗格森 / 哈维尔·巴登 /     丹尼斯·维伦纽瓦   \n10563           桑德拉·惠勒 / 斯万·阿劳德 / 米洛·马查多·格拉纳 / 安托万·赖纳茨 /     茹斯汀·特里耶   \n10564                尤利娅·别列希尔德 / 米洛斯·比柯维奇 / 弗拉基米尔·马什科夫 /     克里姆·斯彭科   \n10565                                   沈腾 / 范丞丞 / 尹正 /           韩寒   \n\n       douban_votes             genres     languages  duration      regions  \\\n0              3965                 喜剧            英语        60           英国   \n1              5955           剧情/动画/奇幻            日语        23           日本   \n2              6430                 音乐            英语       178           英国   \n3           1167141           剧情/爱情/同性         汉语普通话       171  中国大陆 / 中国香港   \n4              5629              剧情/动画            日语        24           日本   \n...             ...                ...           ...       ...          ...   \n10561        653208            剧情 / 喜剧         汉语普通话       129         中国大陆   \n10562        343984  剧情 / 动作 / 科幻 / 冒险            英语       166          加拿大   \n10563        165596            剧情 / 家庭  法语 / 英语 / 德语       151           法国   \n10564         11354       剧情 / 科幻 / 冒险            俄语       120          俄罗斯   \n10565        502387       剧情 / 喜剧 / 运动         汉语普通话       121         中国大陆   \n\n      release_date                                          storyline  \\\n0       1984/12/17  Sitcom about a British government minister and...   \n1        2017/9/27  2017年4月番《夏目友人帐第六季》开播，作品第四卷BD公布，其中将收录TV开播特别篇《鈴鳴...   \n2        2010/10/3  《悲惨世界》是由法国音乐剧作曲家克劳德-米歇尔·勋伯格和阿兰·鲍伯利（Alain Boubl...   \n3         1993/1/1  段小楼（张丰毅）与程蝶衣（张国荣）是一对打小一起长大的师兄弟，两人一个演生，一个饰旦，一向配...   \n4        2017/3/22  第5期Blu-ray/DVDに収録の新作エピソード。それぞれ前編・後編と、連続したエピソード...   \n...            ...                                                ...   \n10561    2024/2/10  大学毕业后仅仅工作短暂的一段时间，杜乐莹（贾玲 饰）便退回家中，宅家长达十年之久。她无所事事...   \n10562     2024/3/8  《沙丘2》承接第一部剧情，讲述保罗·厄崔迪（提莫西·查拉梅 Timothée Chalame...   \n10563    2024/3/29  五年前巴音布鲁克的悲壮一搏，传奇车手张驰（沈腾 饰）赢得了比赛，却输掉了一切。因铅封始终未能...   \n10564    2024/3/15  故事讲述宇航员任务期间突发意外，伤病严重无法支撑返回地球治疗。情急之下，一名女外科医生临危受...   \n10565    2024/2/10  桑德拉（桑德拉·惠勒 Sandra Hüller 饰）、萨穆埃尔（塞缪尔·泰斯 Samuel...   \n\n                                          tags  year  \n0                英剧/喜剧/英国/政治讽刺剧/政治/BBC/经典/黑色幽默  1984  \n1                夏目友人帐/治愈/动漫/日本/动画/温情/日本动画/治愈系  2017  \n2      音乐剧/悲惨世界/英国/经典/音乐/LesMisérables/2010/西区  2010  \n3                      经典/人性/文艺/爱情/人生/同志/剧情/文革  1993  \n4                夏目友人帐/治愈/日本/动漫/动画/日本动画/温情/OVA  2017  \n...                                        ...   ...  \n10561                                  剧情 / 喜剧  2024  \n10562                        剧情 / 动作 / 科幻 / 冒险  2024  \n10563                                  剧情 / 家庭  2024  \n10564                             剧情 / 科幻 / 冒险  2024  \n10565                             剧情 / 喜剧 / 运动  2024  \n\n[10566 rows x 11 columns]",
      "text/html": "<div>\n<style scoped>\n    .dataframe tbody tr th:only-of-type {\n        vertical-align: middle;\n    }\n\n    .dataframe tbody tr th {\n        vertical-align: top;\n    }\n\n    .dataframe thead th {\n        text-align: right;\n    }\n</style>\n<table border=\"1\" class=\"dataframe\">\n  <thead>\n    <tr style=\"text-align: right;\">\n      <th></th>\n      <th>actors</th>\n      <th>directors</th>\n      <th>douban_votes</th>\n      <th>genres</th>\n      <th>languages</th>\n      <th>duration</th>\n      <th>regions</th>\n      <th>release_date</th>\n      <th>storyline</th>\n      <th>tags</th>\n      <th>year</th>\n    </tr>\n  </thead>\n  <tbody>\n    <tr>\n      <th>0</th>\n      <td>保罗·爱丁顿/奈杰尔·霍桑/德里克·福德斯/戴安娜·霍迪诺特/约翰·内特尔顿/詹姆斯·格劳特...</td>\n      <td>彼得·惠特莫尔</td>\n      <td>3965</td>\n      <td>喜剧</td>\n      <td>英语</td>\n      <td>60</td>\n      <td>英国</td>\n      <td>1984/12/17</td>\n      <td>Sitcom about a British government minister and...</td>\n      <td>英剧/喜剧/英国/政治讽刺剧/政治/BBC/经典/黑色幽默</td>\n      <td>1984</td>\n    </tr>\n    <tr>\n      <th>1</th>\n      <td>神谷浩史/井上和彦/伊藤美纪/伊藤荣次/堀江一真/木村良平/菅沼久义/松山鹰志/下崎纮史/冈...</td>\n      <td>大森贵弘/出合小都美</td>\n      <td>5955</td>\n      <td>剧情/动画/奇幻</td>\n      <td>日语</td>\n      <td>23</td>\n      <td>日本</td>\n      <td>2017/9/27</td>\n      <td>2017年4月番《夏目友人帐第六季》开播，作品第四卷BD公布，其中将收录TV开播特别篇《鈴鳴...</td>\n      <td>夏目友人帐/治愈/动漫/日本/动画/温情/日本动画/治愈系</td>\n      <td>2017</td>\n    </tr>\n    <tr>\n      <th>2</th>\n      <td>阿尔菲·博/诺姆·刘易斯/马特·卢卡斯</td>\n      <td>尼克·莫里斯</td>\n      <td>6430</td>\n      <td>音乐</td>\n      <td>英语</td>\n      <td>178</td>\n      <td>英国</td>\n      <td>2010/10/3</td>\n      <td>《悲惨世界》是由法国音乐剧作曲家克劳德-米歇尔·勋伯格和阿兰·鲍伯利（Alain Boubl...</td>\n      <td>音乐剧/悲惨世界/英国/经典/音乐/LesMisérables/2010/西区</td>\n      <td>2010</td>\n    </tr>\n    <tr>\n      <th>3</th>\n      <td>张国荣/张丰毅/巩俐/葛优/英达/蒋雯丽/吴大维/吕齐/雷汉/尹治/马明威/费振翔/智一桐/...</td>\n      <td>陈凯歌</td>\n      <td>1167141</td>\n      <td>剧情/爱情/同性</td>\n      <td>汉语普通话</td>\n      <td>171</td>\n      <td>中国大陆 / 中国香港</td>\n      <td>1993/1/1</td>\n      <td>段小楼（张丰毅）与程蝶衣（张国荣）是一对打小一起长大的师兄弟，两人一个演生，一个饰旦，一向配...</td>\n      <td>经典/人性/文艺/爱情/人生/同志/剧情/文革</td>\n      <td>1993</td>\n    </tr>\n    <tr>\n      <th>4</th>\n      <td>神谷浩史/井上和彦/小林沙苗/伊藤美纪</td>\n      <td>大森贵弘/出合小都美</td>\n      <td>5629</td>\n      <td>剧情/动画</td>\n      <td>日语</td>\n      <td>24</td>\n      <td>日本</td>\n      <td>2017/3/22</td>\n      <td>第5期Blu-ray/DVDに収録の新作エピソード。それぞれ前編・後編と、連続したエピソード...</td>\n      <td>夏目友人帐/治愈/日本/动漫/动画/日本动画/温情/OVA</td>\n      <td>2017</td>\n    </tr>\n    <tr>\n      <th>...</th>\n      <td>...</td>\n      <td>...</td>\n      <td>...</td>\n      <td>...</td>\n      <td>...</td>\n      <td>...</td>\n      <td>...</td>\n      <td>...</td>\n      <td>...</td>\n      <td>...</td>\n      <td>...</td>\n    </tr>\n    <tr>\n      <th>10561</th>\n      <td>贾玲 / 孙集斌 / 刘宏禄 / 郭宇鹏 /</td>\n      <td>贾玲</td>\n      <td>653208</td>\n      <td>剧情 / 喜剧</td>\n      <td>汉语普通话</td>\n      <td>129</td>\n      <td>中国大陆</td>\n      <td>2024/2/10</td>\n      <td>大学毕业后仅仅工作短暂的一段时间，杜乐莹（贾玲 饰）便退回家中，宅家长达十年之久。她无所事事...</td>\n      <td>剧情 / 喜剧</td>\n      <td>2024</td>\n    </tr>\n    <tr>\n      <th>10562</th>\n      <td>提莫西·查拉梅 / 赞达亚 / 丽贝卡·弗格森 / 哈维尔·巴登 /</td>\n      <td>丹尼斯·维伦纽瓦</td>\n      <td>343984</td>\n      <td>剧情 / 动作 / 科幻 / 冒险</td>\n      <td>英语</td>\n      <td>166</td>\n      <td>加拿大</td>\n      <td>2024/3/8</td>\n      <td>《沙丘2》承接第一部剧情，讲述保罗·厄崔迪（提莫西·查拉梅 Timothée Chalame...</td>\n      <td>剧情 / 动作 / 科幻 / 冒险</td>\n      <td>2024</td>\n    </tr>\n    <tr>\n      <th>10563</th>\n      <td>桑德拉·惠勒 / 斯万·阿劳德 / 米洛·马查多·格拉纳 / 安托万·赖纳茨 /</td>\n      <td>茹斯汀·特里耶</td>\n      <td>165596</td>\n      <td>剧情 / 家庭</td>\n      <td>法语 / 英语 / 德语</td>\n      <td>151</td>\n      <td>法国</td>\n      <td>2024/3/29</td>\n      <td>五年前巴音布鲁克的悲壮一搏，传奇车手张驰（沈腾 饰）赢得了比赛，却输掉了一切。因铅封始终未能...</td>\n      <td>剧情 / 家庭</td>\n      <td>2024</td>\n    </tr>\n    <tr>\n      <th>10564</th>\n      <td>尤利娅·别列希尔德 / 米洛斯·比柯维奇 / 弗拉基米尔·马什科夫 /</td>\n      <td>克里姆·斯彭科</td>\n      <td>11354</td>\n      <td>剧情 / 科幻 / 冒险</td>\n      <td>俄语</td>\n      <td>120</td>\n      <td>俄罗斯</td>\n      <td>2024/3/15</td>\n      <td>故事讲述宇航员任务期间突发意外，伤病严重无法支撑返回地球治疗。情急之下，一名女外科医生临危受...</td>\n      <td>剧情 / 科幻 / 冒险</td>\n      <td>2024</td>\n    </tr>\n    <tr>\n      <th>10565</th>\n      <td>沈腾 / 范丞丞 / 尹正 /</td>\n      <td>韩寒</td>\n      <td>502387</td>\n      <td>剧情 / 喜剧 / 运动</td>\n      <td>汉语普通话</td>\n      <td>121</td>\n      <td>中国大陆</td>\n      <td>2024/2/10</td>\n      <td>桑德拉（桑德拉·惠勒 Sandra Hüller 饰）、萨穆埃尔（塞缪尔·泰斯 Samuel...</td>\n      <td>剧情 / 喜剧 / 运动</td>\n      <td>2024</td>\n    </tr>\n  </tbody>\n</table>\n<p>10566 rows × 11 columns</p>\n</div>"
     },
     "execution_count": 130,
     "metadata": {},
     "output_type": "execute_result"
    }
   ],
   "source": [
    "attributes"
   ],
   "metadata": {
    "collapsed": false,
    "ExecuteTime": {
     "end_time": "2024-03-29T12:40:19.607661200Z",
     "start_time": "2024-03-29T12:40:19.380479100Z"
    }
   },
   "id": "f807b1330ab32b66"
  },
  {
   "cell_type": "code",
   "execution_count": 131,
   "outputs": [
    {
     "data": {
      "text/plain": "0        9.8\n1        9.6\n2        9.6\n3        9.6\n4        9.5\n        ... \n10561    0.0\n10562    0.0\n10563    0.0\n10564    0.0\n10565    0.0\nName: douban_score, Length: 10566, dtype: float64"
     },
     "execution_count": 131,
     "metadata": {},
     "output_type": "execute_result"
    }
   ],
   "source": [
    "douban_score"
   ],
   "metadata": {
    "collapsed": false,
    "ExecuteTime": {
     "end_time": "2024-03-29T12:40:19.618657900Z",
     "start_time": "2024-03-29T12:40:19.410480200Z"
    }
   },
   "id": "fc3766454057da2"
  },
  {
   "cell_type": "code",
   "execution_count": 132,
   "id": "ed4ebaf3",
   "metadata": {
    "ExecuteTime": {
     "end_time": "2024-03-29T12:40:19.618657900Z",
     "start_time": "2024-03-29T12:40:19.428083500Z"
    }
   },
   "outputs": [
    {
     "data": {
      "text/plain": "                            movie  douban_score  \\\n10561                        热辣滚烫           0.0   \n10562                         沙丘2           0.0   \n10563  坠落的审判 Anatomie d'une chute           0.0   \n10564                          挑战           0.0   \n10565                       飞驰人生2           0.0   \n\n                                         actors directors  douban_votes  \\\n10561                    贾玲 / 孙集斌 / 刘宏禄 / 郭宇鹏 /        贾玲        653208   \n10562       提莫西·查拉梅 / 赞达亚 / 丽贝卡·弗格森 / 哈维尔·巴登 /   丹尼斯·维伦纽瓦        343984   \n10563  桑德拉·惠勒 / 斯万·阿劳德 / 米洛·马查多·格拉纳 / 安托万·赖纳茨 /   茹斯汀·特里耶        165596   \n10564       尤利娅·别列希尔德 / 米洛斯·比柯维奇 / 弗拉基米尔·马什科夫 /   克里姆·斯彭科         11354   \n10565                          沈腾 / 范丞丞 / 尹正 /         韩寒        502387   \n\n                  genres     languages  duration regions release_date  \\\n10561            剧情 / 喜剧         汉语普通话       129    中国大陆    2024/2/10   \n10562  剧情 / 动作 / 科幻 / 冒险            英语       166     加拿大     2024/3/8   \n10563            剧情 / 家庭  法语 / 英语 / 德语       151      法国    2024/3/29   \n10564       剧情 / 科幻 / 冒险            俄语       120     俄罗斯    2024/3/15   \n10565       剧情 / 喜剧 / 运动         汉语普通话       121    中国大陆    2024/2/10   \n\n                                               storyline               tags  \\\n10561  大学毕业后仅仅工作短暂的一段时间，杜乐莹（贾玲 饰）便退回家中，宅家长达十年之久。她无所事事...            剧情 / 喜剧   \n10562  《沙丘2》承接第一部剧情，讲述保罗·厄崔迪（提莫西·查拉梅 Timothée Chalame...  剧情 / 动作 / 科幻 / 冒险   \n10563  五年前巴音布鲁克的悲壮一搏，传奇车手张驰（沈腾 饰）赢得了比赛，却输掉了一切。因铅封始终未能...            剧情 / 家庭   \n10564  故事讲述宇航员任务期间突发意外，伤病严重无法支撑返回地球治疗。情急之下，一名女外科医生临危受...       剧情 / 科幻 / 冒险   \n10565  桑德拉（桑德拉·惠勒 Sandra Hüller 饰）、萨穆埃尔（塞缪尔·泰斯 Samuel...       剧情 / 喜剧 / 运动   \n\n       year  \n10561  2024  \n10562  2024  \n10563  2024  \n10564  2024  \n10565  2024  ",
      "text/html": "<div>\n<style scoped>\n    .dataframe tbody tr th:only-of-type {\n        vertical-align: middle;\n    }\n\n    .dataframe tbody tr th {\n        vertical-align: top;\n    }\n\n    .dataframe thead th {\n        text-align: right;\n    }\n</style>\n<table border=\"1\" class=\"dataframe\">\n  <thead>\n    <tr style=\"text-align: right;\">\n      <th></th>\n      <th>movie</th>\n      <th>douban_score</th>\n      <th>actors</th>\n      <th>directors</th>\n      <th>douban_votes</th>\n      <th>genres</th>\n      <th>languages</th>\n      <th>duration</th>\n      <th>regions</th>\n      <th>release_date</th>\n      <th>storyline</th>\n      <th>tags</th>\n      <th>year</th>\n    </tr>\n  </thead>\n  <tbody>\n    <tr>\n      <th>10561</th>\n      <td>热辣滚烫</td>\n      <td>0.0</td>\n      <td>贾玲 / 孙集斌 / 刘宏禄 / 郭宇鹏 /</td>\n      <td>贾玲</td>\n      <td>653208</td>\n      <td>剧情 / 喜剧</td>\n      <td>汉语普通话</td>\n      <td>129</td>\n      <td>中国大陆</td>\n      <td>2024/2/10</td>\n      <td>大学毕业后仅仅工作短暂的一段时间，杜乐莹（贾玲 饰）便退回家中，宅家长达十年之久。她无所事事...</td>\n      <td>剧情 / 喜剧</td>\n      <td>2024</td>\n    </tr>\n    <tr>\n      <th>10562</th>\n      <td>沙丘2</td>\n      <td>0.0</td>\n      <td>提莫西·查拉梅 / 赞达亚 / 丽贝卡·弗格森 / 哈维尔·巴登 /</td>\n      <td>丹尼斯·维伦纽瓦</td>\n      <td>343984</td>\n      <td>剧情 / 动作 / 科幻 / 冒险</td>\n      <td>英语</td>\n      <td>166</td>\n      <td>加拿大</td>\n      <td>2024/3/8</td>\n      <td>《沙丘2》承接第一部剧情，讲述保罗·厄崔迪（提莫西·查拉梅 Timothée Chalame...</td>\n      <td>剧情 / 动作 / 科幻 / 冒险</td>\n      <td>2024</td>\n    </tr>\n    <tr>\n      <th>10563</th>\n      <td>坠落的审判 Anatomie d'une chute</td>\n      <td>0.0</td>\n      <td>桑德拉·惠勒 / 斯万·阿劳德 / 米洛·马查多·格拉纳 / 安托万·赖纳茨 /</td>\n      <td>茹斯汀·特里耶</td>\n      <td>165596</td>\n      <td>剧情 / 家庭</td>\n      <td>法语 / 英语 / 德语</td>\n      <td>151</td>\n      <td>法国</td>\n      <td>2024/3/29</td>\n      <td>五年前巴音布鲁克的悲壮一搏，传奇车手张驰（沈腾 饰）赢得了比赛，却输掉了一切。因铅封始终未能...</td>\n      <td>剧情 / 家庭</td>\n      <td>2024</td>\n    </tr>\n    <tr>\n      <th>10564</th>\n      <td>挑战</td>\n      <td>0.0</td>\n      <td>尤利娅·别列希尔德 / 米洛斯·比柯维奇 / 弗拉基米尔·马什科夫 /</td>\n      <td>克里姆·斯彭科</td>\n      <td>11354</td>\n      <td>剧情 / 科幻 / 冒险</td>\n      <td>俄语</td>\n      <td>120</td>\n      <td>俄罗斯</td>\n      <td>2024/3/15</td>\n      <td>故事讲述宇航员任务期间突发意外，伤病严重无法支撑返回地球治疗。情急之下，一名女外科医生临危受...</td>\n      <td>剧情 / 科幻 / 冒险</td>\n      <td>2024</td>\n    </tr>\n    <tr>\n      <th>10565</th>\n      <td>飞驰人生2</td>\n      <td>0.0</td>\n      <td>沈腾 / 范丞丞 / 尹正 /</td>\n      <td>韩寒</td>\n      <td>502387</td>\n      <td>剧情 / 喜剧 / 运动</td>\n      <td>汉语普通话</td>\n      <td>121</td>\n      <td>中国大陆</td>\n      <td>2024/2/10</td>\n      <td>桑德拉（桑德拉·惠勒 Sandra Hüller 饰）、萨穆埃尔（塞缪尔·泰斯 Samuel...</td>\n      <td>剧情 / 喜剧 / 运动</td>\n      <td>2024</td>\n    </tr>\n  </tbody>\n</table>\n</div>"
     },
     "execution_count": 132,
     "metadata": {},
     "output_type": "execute_result"
    }
   ],
   "source": [
    "movie.tail(5)"
   ]
  },
  {
   "cell_type": "code",
   "execution_count": 133,
   "id": "eda9c8d1",
   "metadata": {
    "ExecuteTime": {
     "end_time": "2024-03-29T12:40:19.619656500Z",
     "start_time": "2024-03-29T12:40:19.436082300Z"
    }
   },
   "outputs": [
    {
     "data": {
      "text/plain": "(10566, 13)"
     },
     "execution_count": 133,
     "metadata": {},
     "output_type": "execute_result"
    }
   ],
   "source": [
    "movie.shape"
   ]
  },
  {
   "cell_type": "code",
   "execution_count": 134,
   "id": "0f4f6560",
   "metadata": {
    "ExecuteTime": {
     "end_time": "2024-03-29T12:40:19.619656500Z",
     "start_time": "2024-03-29T12:40:19.461080300Z"
    }
   },
   "outputs": [
    {
     "data": {
      "text/plain": "['movie',\n 'douban_score',\n 'actors',\n 'directors',\n 'douban_votes',\n 'genres',\n 'languages',\n 'duration',\n 'regions',\n 'release_date',\n 'storyline',\n 'tags',\n 'year']"
     },
     "execution_count": 134,
     "metadata": {},
     "output_type": "execute_result"
    }
   ],
   "source": [
    "# 类别过多的列\n",
    "# 设置唯一值数量的阈值\n",
    "threshold = 15\n",
    "columns_with_too_many_categories = []\n",
    "# 遍历DataFrame的列\n",
    "for column in movie.columns:\n",
    "    # 计算每个列的唯一值数量\n",
    "    unique_values_count = movie[column].nunique()\n",
    "    # 如果唯一值数量超过阈值，则将该列添加到列表中\n",
    "    if unique_values_count > threshold:\n",
    "        columns_with_too_many_categories.append(column)\n",
    "\n",
    "columns_with_too_many_categories"
   ]
  },
  {
   "cell_type": "code",
   "execution_count": 135,
   "id": "8e778919",
   "metadata": {
    "ExecuteTime": {
     "end_time": "2024-03-29T12:40:19.620657200Z",
     "start_time": "2024-03-29T12:40:19.521082900Z"
    }
   },
   "outputs": [
    {
     "data": {
      "text/plain": "Index(['movie', 'actors', 'directors', 'genres', 'languages', 'regions',\n       'release_date', 'storyline', 'tags'],\n      dtype='object')"
     },
     "execution_count": 135,
     "metadata": {},
     "output_type": "execute_result"
    }
   ],
   "source": [
    "# 非数值类型列\n",
    "non_numeric_columns = movie.select_dtypes(exclude=['number'])\n",
    "non_numeric_columns.columns"
   ]
  },
  {
   "cell_type": "code",
   "execution_count": 136,
   "id": "aac86e02",
   "metadata": {
    "ExecuteTime": {
     "end_time": "2024-03-29T12:40:19.620657200Z",
     "start_time": "2024-03-29T12:40:19.534660900Z"
    }
   },
   "outputs": [],
   "source": [
    "# 去掉无用的列\n",
    "df = movie.drop(columns= list(set(non_numeric_columns.columns) & set(columns_with_too_many_categories)))\n",
    "df['genres'] = movie['genres']"
   ]
  },
  {
   "cell_type": "code",
   "execution_count": 137,
   "id": "9b942bb0",
   "metadata": {
    "ExecuteTime": {
     "end_time": "2024-03-29T12:40:19.621658300Z",
     "start_time": "2024-03-29T12:40:19.554660200Z"
    }
   },
   "outputs": [
    {
     "data": {
      "text/plain": "       douban_score  douban_votes  duration  year             genres\n0               9.8          3965        60  1984                 喜剧\n1               9.6          5955        23  2017           剧情/动画/奇幻\n2               9.6          6430       178  2010                 音乐\n3               9.6       1167141       171  1993           剧情/爱情/同性\n4               9.5          5629        24  2017              剧情/动画\n...             ...           ...       ...   ...                ...\n10561           0.0        653208       129  2024            剧情 / 喜剧\n10562           0.0        343984       166  2024  剧情 / 动作 / 科幻 / 冒险\n10563           0.0        165596       151  2024            剧情 / 家庭\n10564           0.0         11354       120  2024       剧情 / 科幻 / 冒险\n10565           0.0        502387       121  2024       剧情 / 喜剧 / 运动\n\n[10566 rows x 5 columns]",
      "text/html": "<div>\n<style scoped>\n    .dataframe tbody tr th:only-of-type {\n        vertical-align: middle;\n    }\n\n    .dataframe tbody tr th {\n        vertical-align: top;\n    }\n\n    .dataframe thead th {\n        text-align: right;\n    }\n</style>\n<table border=\"1\" class=\"dataframe\">\n  <thead>\n    <tr style=\"text-align: right;\">\n      <th></th>\n      <th>douban_score</th>\n      <th>douban_votes</th>\n      <th>duration</th>\n      <th>year</th>\n      <th>genres</th>\n    </tr>\n  </thead>\n  <tbody>\n    <tr>\n      <th>0</th>\n      <td>9.8</td>\n      <td>3965</td>\n      <td>60</td>\n      <td>1984</td>\n      <td>喜剧</td>\n    </tr>\n    <tr>\n      <th>1</th>\n      <td>9.6</td>\n      <td>5955</td>\n      <td>23</td>\n      <td>2017</td>\n      <td>剧情/动画/奇幻</td>\n    </tr>\n    <tr>\n      <th>2</th>\n      <td>9.6</td>\n      <td>6430</td>\n      <td>178</td>\n      <td>2010</td>\n      <td>音乐</td>\n    </tr>\n    <tr>\n      <th>3</th>\n      <td>9.6</td>\n      <td>1167141</td>\n      <td>171</td>\n      <td>1993</td>\n      <td>剧情/爱情/同性</td>\n    </tr>\n    <tr>\n      <th>4</th>\n      <td>9.5</td>\n      <td>5629</td>\n      <td>24</td>\n      <td>2017</td>\n      <td>剧情/动画</td>\n    </tr>\n    <tr>\n      <th>...</th>\n      <td>...</td>\n      <td>...</td>\n      <td>...</td>\n      <td>...</td>\n      <td>...</td>\n    </tr>\n    <tr>\n      <th>10561</th>\n      <td>0.0</td>\n      <td>653208</td>\n      <td>129</td>\n      <td>2024</td>\n      <td>剧情 / 喜剧</td>\n    </tr>\n    <tr>\n      <th>10562</th>\n      <td>0.0</td>\n      <td>343984</td>\n      <td>166</td>\n      <td>2024</td>\n      <td>剧情 / 动作 / 科幻 / 冒险</td>\n    </tr>\n    <tr>\n      <th>10563</th>\n      <td>0.0</td>\n      <td>165596</td>\n      <td>151</td>\n      <td>2024</td>\n      <td>剧情 / 家庭</td>\n    </tr>\n    <tr>\n      <th>10564</th>\n      <td>0.0</td>\n      <td>11354</td>\n      <td>120</td>\n      <td>2024</td>\n      <td>剧情 / 科幻 / 冒险</td>\n    </tr>\n    <tr>\n      <th>10565</th>\n      <td>0.0</td>\n      <td>502387</td>\n      <td>121</td>\n      <td>2024</td>\n      <td>剧情 / 喜剧 / 运动</td>\n    </tr>\n  </tbody>\n</table>\n<p>10566 rows × 5 columns</p>\n</div>"
     },
     "execution_count": 137,
     "metadata": {},
     "output_type": "execute_result"
    }
   ],
   "source": [
    "# 初步处理完的数据\n",
    "df"
   ]
  },
  {
   "cell_type": "code",
   "execution_count": 138,
   "id": "eee198b3",
   "metadata": {
    "ExecuteTime": {
     "end_time": "2024-03-29T12:40:19.621658300Z",
     "start_time": "2024-03-29T12:40:19.566661100Z"
    }
   },
   "outputs": [
    {
     "name": "stdout",
     "output_type": "stream",
     "text": [
      "<class 'pandas.core.frame.DataFrame'>\n",
      "RangeIndex: 10566 entries, 0 to 10565\n",
      "Data columns (total 5 columns):\n",
      " #   Column        Non-Null Count  Dtype  \n",
      "---  ------        --------------  -----  \n",
      " 0   douban_score  10566 non-null  float64\n",
      " 1   douban_votes  10566 non-null  int64  \n",
      " 2   duration      10566 non-null  int64  \n",
      " 3   year          10566 non-null  int64  \n",
      " 4   genres        10566 non-null  object \n",
      "dtypes: float64(1), int64(3), object(1)\n",
      "memory usage: 412.9+ KB\n"
     ]
    }
   ],
   "source": [
    "df.info()"
   ]
  },
  {
   "cell_type": "code",
   "execution_count": 139,
   "id": "5d51080f",
   "metadata": {
    "ExecuteTime": {
     "end_time": "2024-03-29T12:40:19.643281800Z",
     "start_time": "2024-03-29T12:40:19.584662300Z"
    }
   },
   "outputs": [],
   "source": [
    "# 缺失值填充\n",
    "# 类别类用null填充\n",
    "non_numeric_columns = df.select_dtypes(exclude=['number'])\n",
    "df[list(non_numeric_columns.columns)] = df[list(non_numeric_columns.columns)].fillna('null')\n",
    "# 数值用均值填充\n",
    "numeric_columns = [col for col in list(df.columns) if col not in list(non_numeric_columns.columns)]\n",
    "df[numeric_columns] = df[numeric_columns].fillna(df[numeric_columns].mean())"
   ]
  },
  {
   "cell_type": "code",
   "execution_count": 140,
   "id": "d532bc2e",
   "metadata": {
    "ExecuteTime": {
     "end_time": "2024-03-29T12:40:21.668093200Z",
     "start_time": "2024-03-29T12:40:19.613658900Z"
    }
   },
   "outputs": [],
   "source": [
    "# 处理流派\n",
    "genres_dummies = df['genres'].str.get_dummies('|')\n",
    "df = pd.concat([df, genres_dummies], axis=1)"
   ]
  },
  {
   "cell_type": "code",
   "execution_count": 141,
   "id": "87b86284",
   "metadata": {
    "ExecuteTime": {
     "end_time": "2024-03-29T12:40:21.721154400Z",
     "start_time": "2024-03-29T12:40:21.671092800Z"
    }
   },
   "outputs": [
    {
     "data": {
      "text/plain": "       douban_score  douban_votes  duration  year             genres  Comedy  \\\n0               9.8          3965        60  1984                 喜剧       0   \n1               9.6          5955        23  2017           剧情/动画/奇幻       0   \n2               9.6          6430       178  2010                 音乐       0   \n3               9.6       1167141       171  1993           剧情/爱情/同性       0   \n4               9.5          5629        24  2017              剧情/动画       0   \n...             ...           ...       ...   ...                ...     ...   \n10561           0.0        653208       129  2024            剧情 / 喜剧       0   \n10562           0.0        343984       166  2024  剧情 / 动作 / 科幻 / 冒险       0   \n10563           0.0        165596       151  2024            剧情 / 家庭       0   \n10564           0.0         11354       120  2024       剧情 / 科幻 / 冒险       0   \n10565           0.0        502387       121  2024       剧情 / 喜剧 / 运动       0   \n\n       传记  传记/历史/古装  传记/古装/戏曲  传记/西部  ...  纪录片/家庭  西部/奇幻/冒险  音乐  音乐/传记  音乐/儿童  \\\n0       0         0         0      0  ...       0         0   0      0      0   \n1       0         0         0      0  ...       0         0   0      0      0   \n2       0         0         0      0  ...       0         0   1      0      0   \n3       0         0         0      0  ...       0         0   0      0      0   \n4       0         0         0      0  ...       0         0   0      0      0   \n...    ..       ...       ...    ...  ...     ...       ...  ..    ...    ...   \n10561   0         0         0      0  ...       0         0   0      0      0   \n10562   0         0         0      0  ...       0         0   0      0      0   \n10563   0         0         0      0  ...       0         0   0      0      0   \n10564   0         0         0      0  ...       0         0   0      0      0   \n10565   0         0         0      0  ...       0         0   0      0      0   \n\n       音乐/儿童/古装  音乐/歌舞  音乐/歌舞/家庭/传记  音乐/歌舞/真人秀  音乐/真人秀  \n0             0      0            0          0       0  \n1             0      0            0          0       0  \n2             0      0            0          0       0  \n3             0      0            0          0       0  \n4             0      0            0          0       0  \n...         ...    ...          ...        ...     ...  \n10561         0      0            0          0       0  \n10562         0      0            0          0       0  \n10563         0      0            0          0       0  \n10564         0      0            0          0       0  \n10565         0      0            0          0       0  \n\n[10566 rows x 1213 columns]",
      "text/html": "<div>\n<style scoped>\n    .dataframe tbody tr th:only-of-type {\n        vertical-align: middle;\n    }\n\n    .dataframe tbody tr th {\n        vertical-align: top;\n    }\n\n    .dataframe thead th {\n        text-align: right;\n    }\n</style>\n<table border=\"1\" class=\"dataframe\">\n  <thead>\n    <tr style=\"text-align: right;\">\n      <th></th>\n      <th>douban_score</th>\n      <th>douban_votes</th>\n      <th>duration</th>\n      <th>year</th>\n      <th>genres</th>\n      <th>Comedy</th>\n      <th>传记</th>\n      <th>传记/历史/古装</th>\n      <th>传记/古装/戏曲</th>\n      <th>传记/西部</th>\n      <th>...</th>\n      <th>纪录片/家庭</th>\n      <th>西部/奇幻/冒险</th>\n      <th>音乐</th>\n      <th>音乐/传记</th>\n      <th>音乐/儿童</th>\n      <th>音乐/儿童/古装</th>\n      <th>音乐/歌舞</th>\n      <th>音乐/歌舞/家庭/传记</th>\n      <th>音乐/歌舞/真人秀</th>\n      <th>音乐/真人秀</th>\n    </tr>\n  </thead>\n  <tbody>\n    <tr>\n      <th>0</th>\n      <td>9.8</td>\n      <td>3965</td>\n      <td>60</td>\n      <td>1984</td>\n      <td>喜剧</td>\n      <td>0</td>\n      <td>0</td>\n      <td>0</td>\n      <td>0</td>\n      <td>0</td>\n      <td>...</td>\n      <td>0</td>\n      <td>0</td>\n      <td>0</td>\n      <td>0</td>\n      <td>0</td>\n      <td>0</td>\n      <td>0</td>\n      <td>0</td>\n      <td>0</td>\n      <td>0</td>\n    </tr>\n    <tr>\n      <th>1</th>\n      <td>9.6</td>\n      <td>5955</td>\n      <td>23</td>\n      <td>2017</td>\n      <td>剧情/动画/奇幻</td>\n      <td>0</td>\n      <td>0</td>\n      <td>0</td>\n      <td>0</td>\n      <td>0</td>\n      <td>...</td>\n      <td>0</td>\n      <td>0</td>\n      <td>0</td>\n      <td>0</td>\n      <td>0</td>\n      <td>0</td>\n      <td>0</td>\n      <td>0</td>\n      <td>0</td>\n      <td>0</td>\n    </tr>\n    <tr>\n      <th>2</th>\n      <td>9.6</td>\n      <td>6430</td>\n      <td>178</td>\n      <td>2010</td>\n      <td>音乐</td>\n      <td>0</td>\n      <td>0</td>\n      <td>0</td>\n      <td>0</td>\n      <td>0</td>\n      <td>...</td>\n      <td>0</td>\n      <td>0</td>\n      <td>1</td>\n      <td>0</td>\n      <td>0</td>\n      <td>0</td>\n      <td>0</td>\n      <td>0</td>\n      <td>0</td>\n      <td>0</td>\n    </tr>\n    <tr>\n      <th>3</th>\n      <td>9.6</td>\n      <td>1167141</td>\n      <td>171</td>\n      <td>1993</td>\n      <td>剧情/爱情/同性</td>\n      <td>0</td>\n      <td>0</td>\n      <td>0</td>\n      <td>0</td>\n      <td>0</td>\n      <td>...</td>\n      <td>0</td>\n      <td>0</td>\n      <td>0</td>\n      <td>0</td>\n      <td>0</td>\n      <td>0</td>\n      <td>0</td>\n      <td>0</td>\n      <td>0</td>\n      <td>0</td>\n    </tr>\n    <tr>\n      <th>4</th>\n      <td>9.5</td>\n      <td>5629</td>\n      <td>24</td>\n      <td>2017</td>\n      <td>剧情/动画</td>\n      <td>0</td>\n      <td>0</td>\n      <td>0</td>\n      <td>0</td>\n      <td>0</td>\n      <td>...</td>\n      <td>0</td>\n      <td>0</td>\n      <td>0</td>\n      <td>0</td>\n      <td>0</td>\n      <td>0</td>\n      <td>0</td>\n      <td>0</td>\n      <td>0</td>\n      <td>0</td>\n    </tr>\n    <tr>\n      <th>...</th>\n      <td>...</td>\n      <td>...</td>\n      <td>...</td>\n      <td>...</td>\n      <td>...</td>\n      <td>...</td>\n      <td>...</td>\n      <td>...</td>\n      <td>...</td>\n      <td>...</td>\n      <td>...</td>\n      <td>...</td>\n      <td>...</td>\n      <td>...</td>\n      <td>...</td>\n      <td>...</td>\n      <td>...</td>\n      <td>...</td>\n      <td>...</td>\n      <td>...</td>\n      <td>...</td>\n    </tr>\n    <tr>\n      <th>10561</th>\n      <td>0.0</td>\n      <td>653208</td>\n      <td>129</td>\n      <td>2024</td>\n      <td>剧情 / 喜剧</td>\n      <td>0</td>\n      <td>0</td>\n      <td>0</td>\n      <td>0</td>\n      <td>0</td>\n      <td>...</td>\n      <td>0</td>\n      <td>0</td>\n      <td>0</td>\n      <td>0</td>\n      <td>0</td>\n      <td>0</td>\n      <td>0</td>\n      <td>0</td>\n      <td>0</td>\n      <td>0</td>\n    </tr>\n    <tr>\n      <th>10562</th>\n      <td>0.0</td>\n      <td>343984</td>\n      <td>166</td>\n      <td>2024</td>\n      <td>剧情 / 动作 / 科幻 / 冒险</td>\n      <td>0</td>\n      <td>0</td>\n      <td>0</td>\n      <td>0</td>\n      <td>0</td>\n      <td>...</td>\n      <td>0</td>\n      <td>0</td>\n      <td>0</td>\n      <td>0</td>\n      <td>0</td>\n      <td>0</td>\n      <td>0</td>\n      <td>0</td>\n      <td>0</td>\n      <td>0</td>\n    </tr>\n    <tr>\n      <th>10563</th>\n      <td>0.0</td>\n      <td>165596</td>\n      <td>151</td>\n      <td>2024</td>\n      <td>剧情 / 家庭</td>\n      <td>0</td>\n      <td>0</td>\n      <td>0</td>\n      <td>0</td>\n      <td>0</td>\n      <td>...</td>\n      <td>0</td>\n      <td>0</td>\n      <td>0</td>\n      <td>0</td>\n      <td>0</td>\n      <td>0</td>\n      <td>0</td>\n      <td>0</td>\n      <td>0</td>\n      <td>0</td>\n    </tr>\n    <tr>\n      <th>10564</th>\n      <td>0.0</td>\n      <td>11354</td>\n      <td>120</td>\n      <td>2024</td>\n      <td>剧情 / 科幻 / 冒险</td>\n      <td>0</td>\n      <td>0</td>\n      <td>0</td>\n      <td>0</td>\n      <td>0</td>\n      <td>...</td>\n      <td>0</td>\n      <td>0</td>\n      <td>0</td>\n      <td>0</td>\n      <td>0</td>\n      <td>0</td>\n      <td>0</td>\n      <td>0</td>\n      <td>0</td>\n      <td>0</td>\n    </tr>\n    <tr>\n      <th>10565</th>\n      <td>0.0</td>\n      <td>502387</td>\n      <td>121</td>\n      <td>2024</td>\n      <td>剧情 / 喜剧 / 运动</td>\n      <td>0</td>\n      <td>0</td>\n      <td>0</td>\n      <td>0</td>\n      <td>0</td>\n      <td>...</td>\n      <td>0</td>\n      <td>0</td>\n      <td>0</td>\n      <td>0</td>\n      <td>0</td>\n      <td>0</td>\n      <td>0</td>\n      <td>0</td>\n      <td>0</td>\n      <td>0</td>\n    </tr>\n  </tbody>\n</table>\n<p>10566 rows × 1213 columns</p>\n</div>"
     },
     "execution_count": 141,
     "metadata": {},
     "output_type": "execute_result"
    }
   ],
   "source": [
    "df"
   ]
  },
  {
   "cell_type": "code",
   "execution_count": 142,
   "id": "949d0cd6",
   "metadata": {
    "ExecuteTime": {
     "end_time": "2024-03-29T12:40:21.857316300Z",
     "start_time": "2024-03-29T12:40:21.703159100Z"
    }
   },
   "outputs": [
    {
     "data": {
      "text/plain": "                  movie  douban_score\n0         是，大臣 1984圣诞特辑           9.8\n2        悲惨世界：25周年纪念演唱会           9.6\n3                  霸王别姬           9.6\n1   夏目友人帐 第六季 特别篇 铃响的残株           9.6\n4      夏目友人帐 五 特别篇：一夜酒杯           9.5\n5                  平安结祈           9.5\n6               大雄的怀念奶奶           9.5\n7                辛德勒的名单           9.5\n8           北国之恋：1987初恋           9.5\n9                  控方证人           9.5\n10            十二怒汉（电视版）           9.5\n15                弗兰肯斯坦           9.4\n18                 十二怒汉           9.4\n17              背靠背，脸对脸           9.4\n16                 灿烂人生           9.4\n12       唐顿庄园：2015圣诞特别篇           9.4\n14          五位(还嫌少)博士重启           9.4\n13             跳出我天地音乐剧           9.4\n11          黄子华栋笃笑之金盘𠺘口           9.4\n25            幕后危机(特别版)           9.3",
      "text/html": "<div>\n<style scoped>\n    .dataframe tbody tr th:only-of-type {\n        vertical-align: middle;\n    }\n\n    .dataframe tbody tr th {\n        vertical-align: top;\n    }\n\n    .dataframe thead th {\n        text-align: right;\n    }\n</style>\n<table border=\"1\" class=\"dataframe\">\n  <thead>\n    <tr style=\"text-align: right;\">\n      <th></th>\n      <th>movie</th>\n      <th>douban_score</th>\n    </tr>\n  </thead>\n  <tbody>\n    <tr>\n      <th>0</th>\n      <td>是，大臣 1984圣诞特辑</td>\n      <td>9.8</td>\n    </tr>\n    <tr>\n      <th>2</th>\n      <td>悲惨世界：25周年纪念演唱会</td>\n      <td>9.6</td>\n    </tr>\n    <tr>\n      <th>3</th>\n      <td>霸王别姬</td>\n      <td>9.6</td>\n    </tr>\n    <tr>\n      <th>1</th>\n      <td>夏目友人帐 第六季 特别篇 铃响的残株</td>\n      <td>9.6</td>\n    </tr>\n    <tr>\n      <th>4</th>\n      <td>夏目友人帐 五 特别篇：一夜酒杯</td>\n      <td>9.5</td>\n    </tr>\n    <tr>\n      <th>5</th>\n      <td>平安结祈</td>\n      <td>9.5</td>\n    </tr>\n    <tr>\n      <th>6</th>\n      <td>大雄的怀念奶奶</td>\n      <td>9.5</td>\n    </tr>\n    <tr>\n      <th>7</th>\n      <td>辛德勒的名单</td>\n      <td>9.5</td>\n    </tr>\n    <tr>\n      <th>8</th>\n      <td>北国之恋：1987初恋</td>\n      <td>9.5</td>\n    </tr>\n    <tr>\n      <th>9</th>\n      <td>控方证人</td>\n      <td>9.5</td>\n    </tr>\n    <tr>\n      <th>10</th>\n      <td>十二怒汉（电视版）</td>\n      <td>9.5</td>\n    </tr>\n    <tr>\n      <th>15</th>\n      <td>弗兰肯斯坦</td>\n      <td>9.4</td>\n    </tr>\n    <tr>\n      <th>18</th>\n      <td>十二怒汉</td>\n      <td>9.4</td>\n    </tr>\n    <tr>\n      <th>17</th>\n      <td>背靠背，脸对脸</td>\n      <td>9.4</td>\n    </tr>\n    <tr>\n      <th>16</th>\n      <td>灿烂人生</td>\n      <td>9.4</td>\n    </tr>\n    <tr>\n      <th>12</th>\n      <td>唐顿庄园：2015圣诞特别篇</td>\n      <td>9.4</td>\n    </tr>\n    <tr>\n      <th>14</th>\n      <td>五位(还嫌少)博士重启</td>\n      <td>9.4</td>\n    </tr>\n    <tr>\n      <th>13</th>\n      <td>跳出我天地音乐剧</td>\n      <td>9.4</td>\n    </tr>\n    <tr>\n      <th>11</th>\n      <td>黄子华栋笃笑之金盘𠺘口</td>\n      <td>9.4</td>\n    </tr>\n    <tr>\n      <th>25</th>\n      <td>幕后危机(特别版)</td>\n      <td>9.3</td>\n    </tr>\n  </tbody>\n</table>\n</div>"
     },
     "execution_count": 142,
     "metadata": {},
     "output_type": "execute_result"
    }
   ],
   "source": [
    "movie_score_20 = movie.sort_values(['douban_score'],ascending=False).head(20)\n",
    "movie_score_20[['movie','douban_score']]"
   ]
  },
  {
   "cell_type": "code",
   "execution_count": 143,
   "id": "43a6ba9d",
   "metadata": {
    "ExecuteTime": {
     "end_time": "2024-03-29T12:40:21.858333700Z",
     "start_time": "2024-03-29T12:40:21.750751600Z"
    }
   },
   "outputs": [],
   "source": [
    "import matplotlib.pyplot as plt\n",
    "import matplotlib\n",
    "matplotlib.rcParams['font.family']='SimHei'"
   ]
  },
  {
   "cell_type": "code",
   "execution_count": 144,
   "id": "1021aa35",
   "metadata": {
    "ExecuteTime": {
     "end_time": "2024-03-29T12:40:21.913270500Z",
     "start_time": "2024-03-29T12:40:21.767753700Z"
    }
   },
   "outputs": [],
   "source": [
    "# 对类别的列进行编码\n",
    "from sklearn.preprocessing import LabelEncoder\n",
    "non_numeric_columns = df.select_dtypes(exclude=['number'])\n",
    "for fea in list(non_numeric_columns.columns):\n",
    "    label_encoder = LabelEncoder()\n",
    "    df[fea] = label_encoder.fit_transform(df[fea])"
   ]
  },
  {
   "cell_type": "code",
   "execution_count": 145,
   "id": "7d50112e",
   "metadata": {
    "ExecuteTime": {
     "end_time": "2024-03-29T12:40:21.972463400Z",
     "start_time": "2024-03-29T12:40:21.861337Z"
    }
   },
   "outputs": [
    {
     "data": {
      "text/plain": "count    10566.000000\nmean         7.447776\nstd          0.634324\nmin          0.000000\n25%          7.000000\n50%          7.400000\n75%          7.800000\nmax          9.800000\nName: douban_score, dtype: float64"
     },
     "execution_count": 145,
     "metadata": {},
     "output_type": "execute_result"
    }
   ],
   "source": [
    "df['douban_score'].describe()"
   ]
  },
  {
   "cell_type": "code",
   "execution_count": 146,
   "id": "39897e9a",
   "metadata": {
    "ExecuteTime": {
     "end_time": "2024-03-29T12:40:22.018725400Z",
     "start_time": "2024-03-29T12:40:21.876329700Z"
    }
   },
   "outputs": [],
   "source": [
    "import pandas as pd\n",
    "import numpy as np\n",
    "from sklearn.model_selection import train_test_split\n",
    "from sklearn.ensemble import RandomForestRegressor\n",
    "from sklearn.tree import DecisionTreeRegressor\n",
    "from sklearn.linear_model import LinearRegression\n",
    "from xgboost import XGBRegressor\n",
    "from lightgbm import LGBMRegressor\n",
    "from catboost import CatBoostRegressor\n",
    "from sklearn.metrics import mean_squared_error, mean_absolute_error, r2_score\n",
    "import numpy as np"
   ]
  },
  {
   "cell_type": "code",
   "execution_count": 147,
   "id": "42e2cf1e",
   "metadata": {
    "ExecuteTime": {
     "end_time": "2024-03-29T12:40:22.057717400Z",
     "start_time": "2024-03-29T12:40:21.927594100Z"
    }
   },
   "outputs": [],
   "source": [
    "X = df.drop(['douban_score'], axis=1)  # 特征\n",
    "y = df['douban_score']  # 目标变量\n",
    "X_train, X_test, y_train, y_test = train_test_split(X, y, test_size=0.2, random_state=42,shuffle=False)"
   ]
  },
  {
   "cell_type": "code",
   "execution_count": 148,
   "outputs": [
    {
     "name": "stderr",
     "output_type": "stream",
     "text": [
      "C:\\Users\\dong\\AppData\\Local\\Temp/ipykernel_15584/408821337.py:3: SettingWithCopyWarning: \n",
      "A value is trying to be set on a copy of a slice from a DataFrame.\n",
      "Try using .loc[row_indexer,col_indexer] = value instead\n",
      "\n",
      "See the caveats in the documentation: https://pandas.pydata.org/pandas-docs/stable/user_guide/indexing.html#returning-a-view-versus-a-copy\n",
      "  X_test['随机森林模型预测评分'] = rf_regressor.predict(X_test)\n"
     ]
    }
   ],
   "source": [
    "rf_regressor = RandomForestRegressor(n_estimators=100, random_state=42)\n",
    "rf_regressor.fit(X_train, y_train)\n",
    "X_test['随机森林模型预测评分'] = rf_regressor.predict(X_test)"
   ],
   "metadata": {
    "collapsed": false,
    "ExecuteTime": {
     "end_time": "2024-03-29T12:40:41.815758Z",
     "start_time": "2024-03-29T12:40:22.000445900Z"
    }
   },
   "id": "053a9256"
  },
  {
   "cell_type": "code",
   "execution_count": 149,
   "outputs": [],
   "source": [
    "X = df.drop(['douban_score'], axis=1)  # 特征\n",
    "y = df['douban_score']  # 目标变量\n",
    "X_train, X_test, y_train, y_test = train_test_split(X, y, test_size=0.2, random_state=42,shuffle=False)"
   ],
   "metadata": {
    "collapsed": false,
    "ExecuteTime": {
     "end_time": "2024-03-29T12:40:41.917600Z",
     "start_time": "2024-03-29T12:40:41.838741100Z"
    }
   },
   "id": "8a33c860"
  },
  {
   "cell_type": "code",
   "execution_count": 150,
   "id": "80235468",
   "metadata": {
    "scrolled": true,
    "ExecuteTime": {
     "end_time": "2024-03-29T12:40:42.347259Z",
     "start_time": "2024-03-29T12:40:41.924606200Z"
    }
   },
   "outputs": [
    {
     "name": "stderr",
     "output_type": "stream",
     "text": [
      "C:\\Users\\dong\\AppData\\Local\\Temp/ipykernel_15584/1502212054.py:3: SettingWithCopyWarning: \n",
      "A value is trying to be set on a copy of a slice from a DataFrame.\n",
      "Try using .loc[row_indexer,col_indexer] = value instead\n",
      "\n",
      "See the caveats in the documentation: https://pandas.pydata.org/pandas-docs/stable/user_guide/indexing.html#returning-a-view-versus-a-copy\n",
      "  X_test['决策树模型预测评分'] = dt_regressor.predict(X_test)\n"
     ]
    }
   ],
   "source": [
    "dt_regressor = DecisionTreeRegressor(random_state=42)\n",
    "dt_regressor.fit(X_train, y_train)\n",
    "X_test['决策树模型预测评分'] = dt_regressor.predict(X_test)"
   ]
  },
  {
   "cell_type": "code",
   "execution_count": 151,
   "id": "4a34099c",
   "metadata": {
    "ExecuteTime": {
     "end_time": "2024-03-29T12:40:42.442477500Z",
     "start_time": "2024-03-29T12:40:42.428891300Z"
    }
   },
   "outputs": [],
   "source": [
    "X = df.drop(['douban_score'], axis=1)  # 特征\n",
    "y = df['douban_score']  # 目标变量\n",
    "X_train, X_test, y_train, y_test = train_test_split(X, y, test_size=0.2, random_state=42,shuffle=False)"
   ]
  },
  {
   "cell_type": "code",
   "execution_count": 152,
   "id": "918c4632",
   "metadata": {
    "ExecuteTime": {
     "end_time": "2024-03-29T12:40:44.759019800Z",
     "start_time": "2024-03-29T12:40:42.450481900Z"
    }
   },
   "outputs": [
    {
     "name": "stderr",
     "output_type": "stream",
     "text": [
      "C:\\Users\\dong\\AppData\\Local\\Temp/ipykernel_15584/3628660792.py:3: SettingWithCopyWarning: \n",
      "A value is trying to be set on a copy of a slice from a DataFrame.\n",
      "Try using .loc[row_indexer,col_indexer] = value instead\n",
      "\n",
      "See the caveats in the documentation: https://pandas.pydata.org/pandas-docs/stable/user_guide/indexing.html#returning-a-view-versus-a-copy\n",
      "  X_test['线性回归模型预测评分'] = lr_regressor.predict(X_test)\n"
     ]
    }
   ],
   "source": [
    "lr_regressor = LinearRegression()\n",
    "lr_regressor.fit(X_train, y_train)\n",
    "X_test['线性回归模型预测评分'] = lr_regressor.predict(X_test)"
   ]
  },
  {
   "cell_type": "code",
   "execution_count": 153,
   "id": "28429210",
   "metadata": {
    "ExecuteTime": {
     "end_time": "2024-03-29T12:40:44.846317100Z",
     "start_time": "2024-03-29T12:40:44.834318200Z"
    }
   },
   "outputs": [],
   "source": [
    "X = df.drop(['douban_score'], axis=1)  # 特征\n",
    "y = df['douban_score']  # 目标变量\n",
    "X_train, X_test, y_train, y_test = train_test_split(X, y, test_size=0.2, random_state=42,shuffle=False)"
   ]
  },
  {
   "cell_type": "code",
   "execution_count": 154,
   "id": "72231b63",
   "metadata": {
    "ExecuteTime": {
     "end_time": "2024-03-29T12:40:49.534535200Z",
     "start_time": "2024-03-29T12:40:44.847315400Z"
    }
   },
   "outputs": [
    {
     "name": "stderr",
     "output_type": "stream",
     "text": [
      "C:\\Users\\dong\\AppData\\Local\\Temp/ipykernel_15584/1324265677.py:3: SettingWithCopyWarning: \n",
      "A value is trying to be set on a copy of a slice from a DataFrame.\n",
      "Try using .loc[row_indexer,col_indexer] = value instead\n",
      "\n",
      "See the caveats in the documentation: https://pandas.pydata.org/pandas-docs/stable/user_guide/indexing.html#returning-a-view-versus-a-copy\n",
      "  X_test['xgb_regressor模型预测评分'] = xgb_regressor.predict(X_test)\n"
     ]
    }
   ],
   "source": [
    "xgb_regressor = XGBRegressor(random_state=42)\n",
    "xgb_regressor.fit(X_train, y_train)\n",
    "X_test['xgb_regressor模型预测评分'] = xgb_regressor.predict(X_test)"
   ]
  },
  {
   "cell_type": "code",
   "execution_count": 155,
   "id": "74f279d5",
   "metadata": {
    "ExecuteTime": {
     "end_time": "2024-03-29T12:40:49.657515400Z",
     "start_time": "2024-03-29T12:40:49.579525200Z"
    }
   },
   "outputs": [],
   "source": [
    "X = df.drop(['douban_score'], axis=1)  # 特征\n",
    "y = df['douban_score']  # 目标变量\n",
    "X_train, X_test, y_train, y_test = train_test_split(X, y, test_size=0.2, random_state=42,shuffle=False)"
   ]
  },
  {
   "cell_type": "code",
   "execution_count": 156,
   "id": "2655a93e",
   "metadata": {
    "scrolled": true,
    "ExecuteTime": {
     "end_time": "2024-03-29T12:40:56.620945700Z",
     "start_time": "2024-03-29T12:40:49.710517900Z"
    }
   },
   "outputs": [
    {
     "name": "stderr",
     "output_type": "stream",
     "text": [
      "C:\\Users\\dong\\AppData\\Local\\Temp/ipykernel_15584/1078843833.py:3: SettingWithCopyWarning: \n",
      "A value is trying to be set on a copy of a slice from a DataFrame.\n",
      "Try using .loc[row_indexer,col_indexer] = value instead\n",
      "\n",
      "See the caveats in the documentation: https://pandas.pydata.org/pandas-docs/stable/user_guide/indexing.html#returning-a-view-versus-a-copy\n",
      "  X_test['catboost_regressor模型预测评分'] = catboost_regressor.predict(X_test)\n"
     ]
    }
   ],
   "source": [
    "catboost_regressor = CatBoostRegressor(random_state=42, verbose=0)\n",
    "catboost_regressor.fit(X_train, y_train)\n",
    "X_test['catboost_regressor模型预测评分'] = catboost_regressor.predict(X_test)"
   ]
  },
  {
   "cell_type": "code",
   "execution_count": 157,
   "id": "48668409",
   "metadata": {
    "ExecuteTime": {
     "end_time": "2024-03-29T12:40:56.731560Z",
     "start_time": "2024-03-29T12:40:56.662946Z"
    }
   },
   "outputs": [],
   "source": [
    "X = df.drop(['douban_score'], axis=1)  # 特征\n",
    "y = df['douban_score']  # 目标变量\n",
    "X_train, X_test, y_train, y_test = train_test_split(X, y, test_size=0.2, random_state=42,shuffle=False)"
   ]
  },
  {
   "cell_type": "code",
   "execution_count": 158,
   "id": "70db6e8a",
   "metadata": {
    "ExecuteTime": {
     "end_time": "2024-03-29T12:40:57.027341700Z",
     "start_time": "2024-03-29T12:40:56.733566200Z"
    }
   },
   "outputs": [
    {
     "name": "stderr",
     "output_type": "stream",
     "text": [
      "C:\\Users\\dong\\AppData\\Local\\Temp/ipykernel_15584/4195694092.py:3: SettingWithCopyWarning: \n",
      "A value is trying to be set on a copy of a slice from a DataFrame.\n",
      "Try using .loc[row_indexer,col_indexer] = value instead\n",
      "\n",
      "See the caveats in the documentation: https://pandas.pydata.org/pandas-docs/stable/user_guide/indexing.html#returning-a-view-versus-a-copy\n",
      "  X_test['lgbm_regressor模型预测评分'] = lgbm_regressor.predict(X_test)\n"
     ]
    }
   ],
   "source": [
    "lgbm_regressor = LGBMRegressor(random_state=42)\n",
    "lgbm_regressor.fit(X_train, y_train)\n",
    "X_test['lgbm_regressor模型预测评分'] = lgbm_regressor.predict(X_test)"
   ]
  },
  {
   "cell_type": "code",
   "execution_count": 160,
   "id": "29dc1c24",
   "metadata": {
    "ExecuteTime": {
     "end_time": "2024-03-29T12:43:26.649275Z",
     "start_time": "2024-03-29T12:42:57.427930500Z"
    }
   },
   "outputs": [
    {
     "data": {
      "text/plain": "<catboost.core.CatBoostRegressor at 0x1d0017f4190>"
     },
     "execution_count": 160,
     "metadata": {},
     "output_type": "execute_result"
    }
   ],
   "source": [
    "X = df.drop(['douban_score'], axis=1)  # 特征\n",
    "y = df['douban_score']  # 目标变量\n",
    "X_train, X_test, y_train, y_test = train_test_split(X, y, test_size=0.2, random_state=42,shuffle=False)\n",
    "\n",
    "# 训练各个回归模型\n",
    "\n",
    "rf_regressor = RandomForestRegressor(n_estimators=100, random_state=42)\n",
    "rf_regressor.fit(X_train, y_train)\n",
    "\n",
    "dt_regressor = DecisionTreeRegressor(random_state=42)\n",
    "dt_regressor.fit(X_train, y_train)\n",
    "\n",
    "lr_regressor = LinearRegression()\n",
    "lr_regressor.fit(X_train, y_train)\n",
    "\n",
    "# xgb_regressor = XGBRegressor(random_state=42)\n",
    "# xgb_regressor.fit(X_train, y_train)\n",
    "\n",
    "catboost_regressor = CatBoostRegressor(random_state=42, verbose=0)\n",
    "catboost_regressor.fit(X_train, y_train)\n",
    "\n",
    "# lgbm_regressor = LGBMRegressor(random_state=42)\n",
    "# lgbm_regressor.fit(X_train, y_train)\n"
   ]
  },
  {
   "cell_type": "code",
   "execution_count": 161,
   "id": "7acb4a13",
   "metadata": {
    "ExecuteTime": {
     "end_time": "2024-03-29T12:43:26.918156Z",
     "start_time": "2024-03-29T12:43:26.651623100Z"
    }
   },
   "outputs": [],
   "source": [
    "# 进行预测\n",
    "\n",
    "y_pred_rf = rf_regressor.predict(X_test)\n",
    "y_pred_dt = dt_regressor.predict(X_test)\n",
    "y_pred_lr = lr_regressor.predict(X_test)\n",
    "# y_pred_xgb = xgb_regressor.predict(X_test)\n",
    "y_pred_catboost = catboost_regressor.predict(X_test)\n",
    "# y_pred_lgbm = lgbm_regressor.predict(X_test)"
   ]
  },
  {
   "cell_type": "code",
   "execution_count": 162,
   "id": "774637cb",
   "metadata": {
    "ExecuteTime": {
     "end_time": "2024-03-29T12:43:26.933846300Z",
     "start_time": "2024-03-29T12:43:26.923158Z"
    }
   },
   "outputs": [],
   "source": [
    "# 计算各个模型的性能指标\n",
    "\n",
    "def evaluate_model(y_true, y_pred):\n",
    "    mse = mean_squared_error(y_true, y_pred)\n",
    "    rmse = np.sqrt(mse)\n",
    "    mae = mean_absolute_error(y_true, y_pred)\n",
    "    r2 = r2_score(y_true, y_pred)\n",
    "    return mse, rmse, mae, r2\n",
    "\n",
    "mse_rf, rmse_rf, mae_rf, r2_rf = evaluate_model(y_test, y_pred_rf)\n",
    "mse_dt, rmse_dt, mae_dt, r2_dt = evaluate_model(y_test, y_pred_dt)\n",
    "mse_lr, rmse_lr, mae_lr, r2_lr = evaluate_model(y_test, y_pred_lr)\n",
    "# mse_xgb, rmse_xgb, mae_xgb, r2_xgb = evaluate_model(y_test, y_pred_xgb)\n",
    "mse_catboost, rmse_catboost, mae_catboost, r2_catboost = evaluate_model(y_test, y_pred_catboost)\n",
    "# mse_lgbm, rmse_lgbm, mae_lgbm, r2_lgbm = evaluate_model(y_test, y_pred_lgbm)"
   ]
  },
  {
   "cell_type": "code",
   "execution_count": 163,
   "id": "00d9b0b2",
   "metadata": {
    "ExecuteTime": {
     "end_time": "2024-03-29T12:43:26.960835500Z",
     "start_time": "2024-03-29T12:43:26.936844100Z"
    }
   },
   "outputs": [],
   "source": [
    "# 创建数据框来比较各个模型的性能\n",
    "\n",
    "comparison_df = pd.DataFrame({'Model': ['Random Forest', 'Decision Tree', 'Linear Regression', 'CatBoost'],\n",
    "                              'MSE': [mse_rf, mse_dt, mse_lr, mse_catboost],\n",
    "                              'RMSE': [rmse_rf, rmse_dt, rmse_lr, rmse_catboost],\n",
    "                              'MAE': [mae_rf, mae_dt, mae_lr, mae_catboost],\n",
    "                              'R^2': [r2_rf, r2_dt, r2_lr, r2_catboost]})"
   ]
  },
  {
   "cell_type": "code",
   "execution_count": 164,
   "id": "e52af709",
   "metadata": {
    "ExecuteTime": {
     "end_time": "2024-03-29T12:43:26.972846400Z",
     "start_time": "2024-03-29T12:43:26.955838500Z"
    }
   },
   "outputs": [
    {
     "data": {
      "text/plain": "               Model           MSE           RMSE           MAE           R^2\n0      Random Forest  8.232665e-01       0.907340      0.773657 -4.222839e+00\n1      Decision Tree  9.734910e-01       0.986656      0.774172 -5.175870e+00\n2  Linear Regression  6.819745e+11  825817.457556  62275.929026 -4.326476e+12\n3           CatBoost  8.467915e-01       0.920213      0.797870 -4.372083e+00",
      "text/html": "<div>\n<style scoped>\n    .dataframe tbody tr th:only-of-type {\n        vertical-align: middle;\n    }\n\n    .dataframe tbody tr th {\n        vertical-align: top;\n    }\n\n    .dataframe thead th {\n        text-align: right;\n    }\n</style>\n<table border=\"1\" class=\"dataframe\">\n  <thead>\n    <tr style=\"text-align: right;\">\n      <th></th>\n      <th>Model</th>\n      <th>MSE</th>\n      <th>RMSE</th>\n      <th>MAE</th>\n      <th>R^2</th>\n    </tr>\n  </thead>\n  <tbody>\n    <tr>\n      <th>0</th>\n      <td>Random Forest</td>\n      <td>8.232665e-01</td>\n      <td>0.907340</td>\n      <td>0.773657</td>\n      <td>-4.222839e+00</td>\n    </tr>\n    <tr>\n      <th>1</th>\n      <td>Decision Tree</td>\n      <td>9.734910e-01</td>\n      <td>0.986656</td>\n      <td>0.774172</td>\n      <td>-5.175870e+00</td>\n    </tr>\n    <tr>\n      <th>2</th>\n      <td>Linear Regression</td>\n      <td>6.819745e+11</td>\n      <td>825817.457556</td>\n      <td>62275.929026</td>\n      <td>-4.326476e+12</td>\n    </tr>\n    <tr>\n      <th>3</th>\n      <td>CatBoost</td>\n      <td>8.467915e-01</td>\n      <td>0.920213</td>\n      <td>0.797870</td>\n      <td>-4.372083e+00</td>\n    </tr>\n  </tbody>\n</table>\n</div>"
     },
     "execution_count": 164,
     "metadata": {},
     "output_type": "execute_result"
    }
   ],
   "source": [
    "comparison_df"
   ]
  },
  {
   "cell_type": "code",
   "execution_count": 165,
   "id": "b21adb36",
   "metadata": {
    "ExecuteTime": {
     "end_time": "2024-03-29T12:43:26.982769400Z",
     "start_time": "2024-03-29T12:43:26.968856200Z"
    }
   },
   "outputs": [],
   "source": [
    "predictions_df = pd.DataFrame({'True Values': y_test,\n",
    "                               'Random Forest Predictions': y_pred_rf,\n",
    "                               'Decision Tree Predictions': y_pred_dt,\n",
    "                               'Linear Regression Predictions': y_pred_lr,\n",
    "#                                'XGBoost Predictions': y_pred_xgb,\n",
    "                               'CatBoost Predictions': y_pred_catboost,})\n",
    "#                                'LightGBM Predictions': y_pred_lgbm"
   ]
  },
  {
   "cell_type": "code",
   "execution_count": 166,
   "id": "d05889c4",
   "metadata": {
    "scrolled": true,
    "ExecuteTime": {
     "end_time": "2024-03-29T12:43:27.073782600Z",
     "start_time": "2024-03-29T12:43:26.991770700Z"
    }
   },
   "outputs": [
    {
     "data": {
      "text/plain": "       True Values  Random Forest Predictions  Decision Tree Predictions  \\\n8452           6.9                      7.656                        7.1   \n8453           6.9                      7.642                        7.4   \n8454           6.9                      7.323                        6.9   \n8455           6.9                      7.700                        7.1   \n8456           6.9                      7.741                        7.4   \n...            ...                        ...                        ...   \n10561          0.0                      8.044                        7.2   \n10562          0.0                      8.008                        7.1   \n10563          0.0                      8.048                        7.9   \n10564          0.0                      7.797                        8.3   \n10565          0.0                      7.941                        7.2   \n\n       Linear Regression Predictions  CatBoost Predictions  \n8452                    7.676212e+00              7.810797  \n8453                    7.351560e+00              7.685185  \n8454                    7.623305e+00              7.467514  \n8455                    7.968181e+00              7.536201  \n8456                    7.332943e+00              7.540217  \n...                              ...                   ...  \n10561                   1.418567e+07              8.314301  \n10562                   5.168989e+06              8.291617  \n10563                   2.057864e+06              8.080605  \n10564                   3.407040e+06              7.676935  \n10565                   1.623820e+07              8.325874  \n\n[2114 rows x 5 columns]",
      "text/html": "<div>\n<style scoped>\n    .dataframe tbody tr th:only-of-type {\n        vertical-align: middle;\n    }\n\n    .dataframe tbody tr th {\n        vertical-align: top;\n    }\n\n    .dataframe thead th {\n        text-align: right;\n    }\n</style>\n<table border=\"1\" class=\"dataframe\">\n  <thead>\n    <tr style=\"text-align: right;\">\n      <th></th>\n      <th>True Values</th>\n      <th>Random Forest Predictions</th>\n      <th>Decision Tree Predictions</th>\n      <th>Linear Regression Predictions</th>\n      <th>CatBoost Predictions</th>\n    </tr>\n  </thead>\n  <tbody>\n    <tr>\n      <th>8452</th>\n      <td>6.9</td>\n      <td>7.656</td>\n      <td>7.1</td>\n      <td>7.676212e+00</td>\n      <td>7.810797</td>\n    </tr>\n    <tr>\n      <th>8453</th>\n      <td>6.9</td>\n      <td>7.642</td>\n      <td>7.4</td>\n      <td>7.351560e+00</td>\n      <td>7.685185</td>\n    </tr>\n    <tr>\n      <th>8454</th>\n      <td>6.9</td>\n      <td>7.323</td>\n      <td>6.9</td>\n      <td>7.623305e+00</td>\n      <td>7.467514</td>\n    </tr>\n    <tr>\n      <th>8455</th>\n      <td>6.9</td>\n      <td>7.700</td>\n      <td>7.1</td>\n      <td>7.968181e+00</td>\n      <td>7.536201</td>\n    </tr>\n    <tr>\n      <th>8456</th>\n      <td>6.9</td>\n      <td>7.741</td>\n      <td>7.4</td>\n      <td>7.332943e+00</td>\n      <td>7.540217</td>\n    </tr>\n    <tr>\n      <th>...</th>\n      <td>...</td>\n      <td>...</td>\n      <td>...</td>\n      <td>...</td>\n      <td>...</td>\n    </tr>\n    <tr>\n      <th>10561</th>\n      <td>0.0</td>\n      <td>8.044</td>\n      <td>7.2</td>\n      <td>1.418567e+07</td>\n      <td>8.314301</td>\n    </tr>\n    <tr>\n      <th>10562</th>\n      <td>0.0</td>\n      <td>8.008</td>\n      <td>7.1</td>\n      <td>5.168989e+06</td>\n      <td>8.291617</td>\n    </tr>\n    <tr>\n      <th>10563</th>\n      <td>0.0</td>\n      <td>8.048</td>\n      <td>7.9</td>\n      <td>2.057864e+06</td>\n      <td>8.080605</td>\n    </tr>\n    <tr>\n      <th>10564</th>\n      <td>0.0</td>\n      <td>7.797</td>\n      <td>8.3</td>\n      <td>3.407040e+06</td>\n      <td>7.676935</td>\n    </tr>\n    <tr>\n      <th>10565</th>\n      <td>0.0</td>\n      <td>7.941</td>\n      <td>7.2</td>\n      <td>1.623820e+07</td>\n      <td>8.325874</td>\n    </tr>\n  </tbody>\n</table>\n<p>2114 rows × 5 columns</p>\n</div>"
     },
     "execution_count": 166,
     "metadata": {},
     "output_type": "execute_result"
    }
   ],
   "source": [
    "predictions_df"
   ]
  },
  {
   "cell_type": "code",
   "execution_count": 167,
   "id": "3996ab0b",
   "metadata": {
    "ExecuteTime": {
     "end_time": "2024-03-29T12:43:27.193971400Z",
     "start_time": "2024-03-29T12:43:27.000772100Z"
    }
   },
   "outputs": [
    {
     "name": "stderr",
     "output_type": "stream",
     "text": [
      "C:\\Users\\dong\\AppData\\Local\\Temp/ipykernel_15584/3769922626.py:1: SettingWithCopyWarning: \n",
      "A value is trying to be set on a copy of a slice from a DataFrame.\n",
      "Try using .loc[row_indexer,col_indexer] = value instead\n",
      "\n",
      "See the caveats in the documentation: https://pandas.pydata.org/pandas-docs/stable/user_guide/indexing.html#returning-a-view-versus-a-copy\n",
      "  X_test['label'] = rf_regressor.predict(X_test)\n"
     ]
    }
   ],
   "source": [
    "X_test['label'] = rf_regressor.predict(X_test)"
   ]
  },
  {
   "cell_type": "code",
   "execution_count": null,
   "id": "f39822c5",
   "metadata": {
    "ExecuteTime": {
     "start_time": "2024-03-29T12:40:57.122941300Z"
    }
   },
   "outputs": [],
   "source": [
    "movie_rating_score = X_test.iloc[-1]\n",
    "\n",
    "print(\"未上映电影预测评分为：\"+str (movie_rating_score[-1]))\n"
   ]
  },
  {
   "cell_type": "code",
   "execution_count": null,
   "id": "b9929f70",
   "metadata": {
    "ExecuteTime": {
     "start_time": "2024-03-29T12:40:57.124941100Z"
    }
   },
   "outputs": [],
   "source": []
  },
  {
   "cell_type": "code",
   "execution_count": null,
   "id": "2bb7e767",
   "metadata": {
    "ExecuteTime": {
     "start_time": "2024-03-29T12:40:57.125941Z"
    }
   },
   "outputs": [],
   "source": []
  },
  {
   "cell_type": "code",
   "execution_count": null,
   "id": "05d05bbb",
   "metadata": {
    "ExecuteTime": {
     "start_time": "2024-03-29T12:40:57.127946600Z"
    }
   },
   "outputs": [],
   "source": []
  }
 ],
 "metadata": {
  "kernelspec": {
   "display_name": "Python 3 (ipykernel)",
   "language": "python",
   "name": "python3"
  },
  "language_info": {
   "codemirror_mode": {
    "name": "ipython",
    "version": 3
   },
   "file_extension": ".py",
   "mimetype": "text/x-python",
   "name": "python",
   "nbconvert_exporter": "python",
   "pygments_lexer": "ipython3",
   "version": "3.9.7"
  }
 },
 "nbformat": 4,
 "nbformat_minor": 5
}
